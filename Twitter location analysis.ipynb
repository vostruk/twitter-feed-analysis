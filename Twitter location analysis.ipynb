{
 "cells": [
  {
   "cell_type": "markdown",
   "metadata": {},
   "source": [
    "# Preprocess"
   ]
  },
  {
   "cell_type": "code",
   "execution_count": 1,
   "metadata": {},
   "outputs": [],
   "source": [
    "import os\n",
    "import json\n",
    "import bz2\n",
    "from bz2 import decompress, BZ2Decompressor\n",
    "\n",
    "def get_files_by_type(rootdir = \"data/2018\", type = \".bz2\"):\n",
    "    for root, dirs, files in os.walk(rootdir):\n",
    "        for name in files:\n",
    "            if name.endswith((type)):\n",
    "                full_path = os.path.join(root, name)\n",
    "                yield full_path\n",
    "\n",
    "def get_bz2_content(filepath):\n",
    "    with open(filepath, 'rb') as file:\n",
    "        decompressor = BZ2Decompressor()\n",
    "        data = file.read()\n",
    "        text = decompressor.decompress(data)\n",
    "        return text"
   ]
  },
  {
   "cell_type": "code",
   "execution_count": 69,
   "metadata": {},
   "outputs": [
    {
     "ename": "NameError",
     "evalue": "name 'get_files_by_type' is not defined",
     "output_type": "error",
     "traceback": [
      "\u001b[0;31m---------------------------------------------------------------------------\u001b[0m",
      "\u001b[0;31mNameError\u001b[0m                                 Traceback (most recent call last)",
      "\u001b[0;32m<ipython-input-69-f1db71f48a9e>\u001b[0m in \u001b[0;36m<module>\u001b[0;34m\u001b[0m\n\u001b[1;32m     43\u001b[0m \u001b[0;34m\u001b[0m\u001b[0m\n\u001b[1;32m     44\u001b[0m \u001b[0mall_cities_and_countries\u001b[0m \u001b[0;34m=\u001b[0m \u001b[0;34m[\u001b[0m\u001b[0;34m]\u001b[0m\u001b[0;34m\u001b[0m\u001b[0;34m\u001b[0m\u001b[0m\n\u001b[0;32m---> 45\u001b[0;31m \u001b[0;32mfor\u001b[0m \u001b[0mjfile_path\u001b[0m \u001b[0;32min\u001b[0m \u001b[0mget_files_by_type\u001b[0m\u001b[0;34m(\u001b[0m\u001b[0;34m)\u001b[0m\u001b[0;34m:\u001b[0m\u001b[0;34m\u001b[0m\u001b[0;34m\u001b[0m\u001b[0m\n\u001b[0m\u001b[1;32m     46\u001b[0m     \u001b[0mdata\u001b[0m \u001b[0;34m=\u001b[0m \u001b[0mget_bz2_content\u001b[0m\u001b[0;34m(\u001b[0m\u001b[0mjfile_path\u001b[0m\u001b[0;34m)\u001b[0m\u001b[0;34m.\u001b[0m\u001b[0mdecode\u001b[0m\u001b[0;34m(\u001b[0m\u001b[0;34m\"utf-8\"\u001b[0m\u001b[0;34m)\u001b[0m\u001b[0;34m\u001b[0m\u001b[0;34m\u001b[0m\u001b[0m\n\u001b[1;32m     47\u001b[0m     \u001b[0;32mfor\u001b[0m \u001b[0mobj\u001b[0m \u001b[0;32min\u001b[0m \u001b[0mdecode_stacked\u001b[0m\u001b[0;34m(\u001b[0m\u001b[0mdata\u001b[0m\u001b[0;34m)\u001b[0m\u001b[0;34m:\u001b[0m\u001b[0;34m\u001b[0m\u001b[0;34m\u001b[0m\u001b[0m\n",
      "\u001b[0;31mNameError\u001b[0m: name 'get_files_by_type' is not defined"
     ]
    }
   ],
   "source": [
    "from json import JSONDecoder, JSONDecodeError\n",
    "import re\n",
    "\n",
    "NOT_WHITESPACE = re.compile(r'[^\\s]')\n",
    "\n",
    "def decode_stacked(document, pos=0, decoder=JSONDecoder()):\n",
    "    while True:\n",
    "        match = NOT_WHITESPACE.search(document, pos)\n",
    "        if not match:\n",
    "            return\n",
    "        pos = match.start()\n",
    "\n",
    "        try:\n",
    "            obj, pos = decoder.raw_decode(document, pos)\n",
    "        except JSONDecodeError:\n",
    "            break\n",
    "        yield obj\n",
    "        \n",
    "def findkv(key, dictionary):\n",
    "    for k, v in dictionary.items():\n",
    "        if k == key:\n",
    "            if v!=None:\n",
    "                yield v.title()\n",
    "        elif isinstance(v, dict):\n",
    "            for result in findkv(key, v):\n",
    "                yield result\n",
    "\n",
    "from geotext import GeoText\n",
    "\n",
    "def get_cities_and_countries(file_content):\n",
    "    cities = []\n",
    "    countries = []\n",
    "    places_in_text = GeoText(obj.get('text', \"\").title())\n",
    "    cities = cities + places_in_text.cities\n",
    "    countries = countries + places_in_text.countries\n",
    "    val = list(findkv('location', obj))\n",
    "    if val!=[]:\n",
    "        for p in val:\n",
    "            places = GeoText(p)\n",
    "            cities = cities + places.cities\n",
    "            countries = countries + places.countries\n",
    "    return (cities, countries)\n",
    "\n",
    "all_cities_and_countries = []\n",
    "for jfile_path in get_files_by_type():\n",
    "    data = get_bz2_content(jfile_path).decode(\"utf-8\")\n",
    "    for obj in decode_stacked(data):\n",
    "        cities, countries = get_cities_and_countries(obj)\n",
    "        if cities==[] and countries==[]:\n",
    "            pass\n",
    "        else:\n",
    "            record = {}\n",
    "            record['created_at'] = obj['created_at']\n",
    "            record['cities'] = cities\n",
    "            record['countries'] = countries\n",
    "            all_cities_and_countries.append(record)\n",
    "        \n",
    "with open(\"location_results.json\", 'w') as result_file:\n",
    "    json.dump(all_cities_and_countries, result_file)     \n",
    "            "
   ]
  },
  {
   "cell_type": "markdown",
   "metadata": {},
   "source": [
    "# Transform & Analyze"
   ]
  },
  {
   "cell_type": "code",
   "execution_count": 71,
   "metadata": {},
   "outputs": [],
   "source": [
    "#read json file with saved location data and load it to pandas array\n",
    "#transform city and coutry names to coutry codes according to ISO \n",
    "from iso3166 import countries\n",
    "from geopy.geocoders import Nominatim\n",
    "geolocator = Nominatim(user_agent=\"twitter-location-analyzer\")\n",
    "\n",
    "def get_iso_from_name(coutry):\n",
    "    for c in countries:\n",
    "        if coutry.upper() in c:\n",
    "            return c.alpha2\n",
    "    for c in countries:\n",
    "        if coutry in c.name:\n",
    "            return c.alpha2\n",
    "    return None\n",
    "\n",
    "def get_iso_from_any_address(address):\n",
    "    try:\n",
    "        location = geolocator.geocode(address)\n",
    "        if location == None:\n",
    "            return address\n",
    "        location2 = geolocator.reverse(str(location.latitude) + \",\" + str(location.longitude), language='en')\n",
    "        if location2 == None:\n",
    "            return address\n",
    "        possible_code = get_iso_from_name(location2.raw['address']['country'])\n",
    "        if possible_code!=None:\n",
    "            return possible_code\n",
    "        else:\n",
    "            possible_code = get_iso_from_name(location2.raw['address']['country_code'])\n",
    "        if possible_code!=None:\n",
    "            return possible_code\n",
    "        else:\n",
    "            return address\n",
    "    except:\n",
    "        return address\n"
   ]
  },
  {
   "cell_type": "code",
   "execution_count": 57,
   "metadata": {},
   "outputs": [
    {
     "data": {
      "text/plain": [
       "'PL'"
      ]
     },
     "execution_count": 57,
     "metadata": {},
     "output_type": "execute_result"
    }
   ],
   "source": [
    "#get_iso_from_any_address(\"Chodkiewicza 3\")"
   ]
  },
  {
   "cell_type": "code",
   "execution_count": 72,
   "metadata": {},
   "outputs": [],
   "source": [
    "#now reformat all found names into country codes and put them in dataFrame\n",
    "import pandas as pd\n",
    "import json \n",
    "\n",
    "all_cities_map = dict()\n",
    "all_countries_map = dict()\n",
    "\n",
    "with open(\"location_results.json\", 'r') as result_file:\n",
    "    data = json.load(result_file)\n",
    "    for tweet in data:\n",
    "        for c in set(tweet['countries']):\n",
    "            if c not in all_countries_map:\n",
    "                #find what is the coutry code\n",
    "                code = get_iso_from_name(c)\n",
    "                if code == None:\n",
    "                    code = get_iso_from_any_address(c)\n",
    "                all_countries_map[c] = code\n",
    "                \n",
    "        for c in set(tweet['cities']):\n",
    "            if c not in all_cities_map:\n",
    "                #find what is the coutry code\n",
    "                code = get_iso_from_any_address(c)\n",
    "                all_cities_map[c] = code\n",
    "                \n",
    "with open(\"all_cities_map.json\", 'w') as result_file:\n",
    "    json.dump(all_cities_map, result_file)   \n",
    "\n",
    "with open(\"all_countries_map.json\", 'w') as result_file:\n",
    "    json.dump(all_countries_map, result_file)  \n"
   ]
  },
  {
   "cell_type": "markdown",
   "metadata": {},
   "source": [
    "# Display"
   ]
  },
  {
   "cell_type": "code",
   "execution_count": 74,
   "metadata": {},
   "outputs": [
    {
     "data": {
      "image/png": "[encoded data removed]",
      "text/plain": [
       "<Figure size 432x288 with 1 Axes>"
      ]
     },
     "metadata": {
      "needs_background": "light"
     },
     "output_type": "display_data"
    }
   ],
   "source": [
    "#display simple list by number of destinations count\n",
    "import matplotlib.pyplot as plt\n",
    "import pandas as pd\n",
    "import numpy as np\n",
    "\n",
    "#display country mentions\n",
    "country_mentions = dict()\n",
    "\n",
    "with open(\"location_results.json\", 'r') as result_file:\n",
    "    data = json.load(result_file)\n",
    "    for tweet in data:\n",
    "        for c in set(tweet['countries']):\n",
    "            country_code = all_countries_map[c]\n",
    "            if country_code in country_mentions:\n",
    "                country_mentions[country_code]+=1\n",
    "            else:\n",
    "                country_mentions[country_code]=1\n",
    "                \n",
    "        for c in set(tweet['cities']):\n",
    "            country_code = all_cities_map[c]\n",
    "            if country_code in country_mentions:\n",
    "                country_mentions[country_code]+=1\n",
    "            else:\n",
    "                country_mentions[country_code]=1\n",
    "                \n",
    "\n",
    "\n"
   ]
  },
  {
   "cell_type": "code",
   "execution_count": 88,
   "metadata": {},
   "outputs": [
    {
     "name": "stdout",
     "output_type": "stream",
     "text": [
      "    country  count\n",
      "15       US  18545\n",
      "32       AR   4365\n",
      "6        IO   4154\n",
      "8        FR   4047\n",
      "12       GB   3527\n",
      "..      ...    ...\n",
      "156      GA      1\n",
      "174      BI      1\n",
      "172      TG      1\n",
      "149      SR      1\n",
      "181      SM      1\n",
      "\n",
      "[182 rows x 2 columns]\n"
     ]
    },
    {
     "data": {
      "image/png": "[encoded data removed]",
      "text/plain": [
       "<Figure size 432x288 with 1 Axes>"
      ]
     },
     "metadata": {
      "needs_background": "light"
     },
     "output_type": "display_data"
    }
   ],
   "source": [
    "found_coutries = { ckey: country_mentions[ckey] for ckey in country_mentions if len(ckey)==2}\n",
    "\n",
    "df = pd.DataFrame.from_dict({'country': list(found_coutries.keys()), 'count': list(found_coutries.values())})\n",
    "\n",
    "print(df.sort_values(by='count', ascending=False))\n",
    "\n",
    "plt.bar(range(len(found_coutries)), list(found_coutries.values()), align='center')#len(country_mentions)\n",
    "plt.xticks(range(len(found_coutries)), list(found_coutries.keys()))#len(country_mentions)\n",
    "plt.show()\n",
    "\n",
    "\n",
    "#plt.bar(list(country_mentions.keys()), country_mentions.values(), color='g')\n",
    "#plt.show()"
   ]
  },
  {
   "cell_type": "markdown",
   "metadata": {},
   "source": [
    "## TODOs\n",
    "\n",
    "* Improve country code detection (British Indian Ocean Teritory as example)\n",
    "* Detect if the tweet is related to traveling only (remove political tweets for ex)\n",
    "* Better visualization with superset"
   ]
  }
 ],
 "metadata": {
  "kernelspec": {
   "display_name": "Python 3",
   "language": "python",
   "name": "python3"
  },
  "language_info": {
   "codemirror_mode": {
    "name": "ipython",
    "version": 3
   },
   "file_extension": ".py",
   "mimetype": "text/x-python",
   "name": "python",
   "nbconvert_exporter": "python",
   "pygments_lexer": "ipython3",
   "version": "3.7.3"
  }
 },
 "nbformat": 4,
 "nbformat_minor": 2
}

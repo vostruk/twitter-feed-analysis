{
 "cells": [
  {
   "cell_type": "markdown",
   "metadata": {},
   "source": [
    "# Preprocess"
   ]
  },
  {
   "cell_type": "code",
   "execution_count": 1,
   "metadata": {},
   "outputs": [],
   "source": [
    "import os\n",
    "import json\n",
    "import bz2\n",
    "from bz2 import decompress, BZ2Decompressor\n",
    "from json import JSONDecoder, JSONDecodeError\n",
    "import re\n",
    "\n",
    "NOT_WHITESPACE = re.compile(r'[^\\s]')\n",
    "\n",
    "def get_files_by_type(rootdir = \"data/2018\", type = \".bz2\"):\n",
    "    for root, dirs, files in os.walk(rootdir):\n",
    "        for name in files:\n",
    "            if name.endswith((type)):\n",
    "                full_path = os.path.join(root, name)\n",
    "                yield full_path\n",
    "\n",
    "def get_bz2_content(filepath):\n",
    "    with open(filepath, 'rb') as file:\n",
    "        decompressor = BZ2Decompressor()\n",
    "        data = file.read()\n",
    "        text = decompressor.decompress(data)\n",
    "        return text\n",
    "\n",
    "def decode_stacked(document, pos=0, decoder=JSONDecoder()):\n",
    "    while True:\n",
    "        match = NOT_WHITESPACE.search(document, pos)\n",
    "        if not match:\n",
    "            return\n",
    "        pos = match.start()\n",
    "\n",
    "        try:\n",
    "            obj, pos = decoder.raw_decode(document, pos)\n",
    "        except JSONDecodeError:\n",
    "            break\n",
    "        yield obj\n",
    "        \n",
    "def findkv(key, dictionary):\n",
    "    for k, v in dictionary.items():\n",
    "        if k == key:\n",
    "            if v!=None:\n",
    "                yield v.title()\n",
    "        elif isinstance(v, dict):\n",
    "            for result in findkv(key, v):\n",
    "                yield result"
   ]
  },
  {
   "cell_type": "code",
   "execution_count": 69,
   "metadata": {},
   "outputs": [
    {
     "ename": "NameError",
     "evalue": "name 'get_files_by_type' is not defined",
     "output_type": "error",
     "traceback": [
      "\u001b[0;31m---------------------------------------------------------------------------\u001b[0m",
      "\u001b[0;31mNameError\u001b[0m                                 Traceback (most recent call last)",
      "\u001b[0;32m<ipython-input-69-f1db71f48a9e>\u001b[0m in \u001b[0;36m<module>\u001b[0;34m\u001b[0m\n\u001b[1;32m     43\u001b[0m \u001b[0;34m\u001b[0m\u001b[0m\n\u001b[1;32m     44\u001b[0m \u001b[0mall_cities_and_countries\u001b[0m \u001b[0;34m=\u001b[0m \u001b[0;34m[\u001b[0m\u001b[0;34m]\u001b[0m\u001b[0;34m\u001b[0m\u001b[0;34m\u001b[0m\u001b[0m\n\u001b[0;32m---> 45\u001b[0;31m \u001b[0;32mfor\u001b[0m \u001b[0mjfile_path\u001b[0m \u001b[0;32min\u001b[0m \u001b[0mget_files_by_type\u001b[0m\u001b[0;34m(\u001b[0m\u001b[0;34m)\u001b[0m\u001b[0;34m:\u001b[0m\u001b[0;34m\u001b[0m\u001b[0;34m\u001b[0m\u001b[0m\n\u001b[0m\u001b[1;32m     46\u001b[0m     \u001b[0mdata\u001b[0m \u001b[0;34m=\u001b[0m \u001b[0mget_bz2_content\u001b[0m\u001b[0;34m(\u001b[0m\u001b[0mjfile_path\u001b[0m\u001b[0;34m)\u001b[0m\u001b[0;34m.\u001b[0m\u001b[0mdecode\u001b[0m\u001b[0;34m(\u001b[0m\u001b[0;34m\"utf-8\"\u001b[0m\u001b[0;34m)\u001b[0m\u001b[0;34m\u001b[0m\u001b[0;34m\u001b[0m\u001b[0m\n\u001b[1;32m     47\u001b[0m     \u001b[0;32mfor\u001b[0m \u001b[0mobj\u001b[0m \u001b[0;32min\u001b[0m \u001b[0mdecode_stacked\u001b[0m\u001b[0;34m(\u001b[0m\u001b[0mdata\u001b[0m\u001b[0;34m)\u001b[0m\u001b[0;34m:\u001b[0m\u001b[0;34m\u001b[0m\u001b[0;34m\u001b[0m\u001b[0m\n",
      "\u001b[0;31mNameError\u001b[0m: name 'get_files_by_type' is not defined"
     ]
    }
   ],
   "source": [
    "from geotext import GeoText\n",
    "\n",
    "def filter_bad_tweet_topics(tweet_text):\n",
    "    #do some topic modeling with gensim\n",
    "    #if tweet is political remove it\n",
    "    #if tweet is not travel related - remove it\n",
    "    pass\n",
    "\n",
    "def get_cities_and_countries(file_content):\n",
    "    cities = []\n",
    "    countries = []\n",
    "    places_in_text = GeoText(obj.get('text', \"\").title())\n",
    "    cities = cities + places_in_text.cities\n",
    "    countries = countries + places_in_text.countries\n",
    "    val = list(findkv('location', obj))\n",
    "    if val!=[]:\n",
    "        for p in val:\n",
    "            places = GeoText(p)\n",
    "            cities = cities + places.cities\n",
    "            countries = countries + places.countries\n",
    "    return (cities, countries)\n",
    "\n",
    "all_cities_and_countries = []\n",
    "for jfile_path in get_files_by_type():\n",
    "    data = get_bz2_content(jfile_path).decode(\"utf-8\")\n",
    "    for obj in decode_stacked(data):\n",
    "        cities, countries = get_cities_and_countries(obj)\n",
    "        if cities==[] and countries==[]:\n",
    "            pass\n",
    "        else:\n",
    "            record = {}\n",
    "            record['created_at'] = obj['created_at']\n",
    "            record['cities'] = cities\n",
    "            record['countries'] = countries\n",
    "            all_cities_and_countries.append(record)\n",
    "        \n",
    "with open(\"location_results.json\", 'w') as result_file:\n",
    "    json.dump(all_cities_and_countries, result_file)     \n",
    "            "
   ]
  },
  {
   "cell_type": "markdown",
   "metadata": {},
   "source": [
    "# Transform & Analyze"
   ]
  },
  {
   "cell_type": "code",
   "execution_count": 120,
   "metadata": {},
   "outputs": [],
   "source": [
    "#read json file with saved location data and load it to pandas array\n",
    "#transform city and coutry names to coutry codes according to ISO \n",
    "from iso3166 import countries\n",
    "from geopy.geocoders import Nominatim\n",
    "geolocator = Nominatim(user_agent=\"twitter-location-analyzer\")\n",
    "\n",
    "def get_iso_from_name(coutry):\n",
    "    cou = countries.get(coutry.capitalize(), \"None\")\n",
    "    if cou!=\"None\":\n",
    "        return cou.alpha2\n",
    "    \n",
    "    cou = countries.get(coutry.upper(), \"None\")\n",
    "    if cou!=\"None\":\n",
    "        return cou.alpha2\n",
    "        \n",
    "    for c in countries:\n",
    "        if coutry.upper() in c:\n",
    "            return c.alpha2\n",
    "    for c in countries:\n",
    "        if coutry in c.name:\n",
    "            return c.alpha2\n",
    "    return None\n",
    "\n",
    "def get_iso_from_any_address(address):\n",
    "    try:\n",
    "        location = geolocator.geocode(address)\n",
    "        if location == None:\n",
    "            return address\n",
    "        location2 = geolocator.reverse(str(location.latitude) + \",\" + str(location.longitude), language='en')\n",
    "        if location2 == None:\n",
    "            return address\n",
    "        possible_code = get_iso_from_name(location2.raw['address']['country'])\n",
    "        if possible_code!=None:\n",
    "            return possible_code\n",
    "        else:\n",
    "            possible_code = get_iso_from_name(location2.raw['address']['country_code'])\n",
    "        if possible_code!=None:\n",
    "            return possible_code\n",
    "        else:\n",
    "            return address\n",
    "    except:\n",
    "        return address\n"
   ]
  },
  {
   "cell_type": "code",
   "execution_count": 117,
   "metadata": {},
   "outputs": [
    {
     "data": {
      "text/plain": [
       "'India'"
      ]
     },
     "execution_count": 117,
     "metadata": {},
     "output_type": "execute_result"
    }
   ],
   "source": [
    "get_iso_from_any_address(\"India\")\n",
    "get_iso_from_name(\"India\")\n",
    "countries.get(\"India\")"
   ]
  },
  {
   "cell_type": "code",
   "execution_count": 121,
   "metadata": {},
   "outputs": [],
   "source": [
    "#now reformat all found names into country codes and put them in dataFrame\n",
    "import pandas as pd\n",
    "import json \n",
    "\n",
    "all_cities_map = dict()\n",
    "all_countries_map = dict()\n",
    "\n",
    "with open(\"location_results.json\", 'r') as result_file:\n",
    "    data = json.load(result_file)\n",
    "    for tweet in data:\n",
    "        for c in set(tweet['countries']):\n",
    "            if c not in all_countries_map:\n",
    "                #find what is the coutry code\n",
    "                code = get_iso_from_name(c)\n",
    "                if code == None:\n",
    "                    code = get_iso_from_any_address(c)\n",
    "                all_countries_map[c] = code\n",
    "                \n",
    "        for c in set(tweet['cities']):\n",
    "            if c not in all_cities_map:\n",
    "                #find what is the coutry code\n",
    "                code = get_iso_from_any_address(c)\n",
    "                all_cities_map[c] = code\n",
    "                \n",
    "with open(\"all_cities_map.json\", 'w') as result_file:\n",
    "    json.dump(all_cities_map, result_file)   \n",
    "\n",
    "with open(\"all_countries_map.json\", 'w') as result_file:\n",
    "    json.dump(all_countries_map, result_file)  \n"
   ]
  },
  {
   "cell_type": "markdown",
   "metadata": {},
   "source": [
    "# Display"
   ]
  },
  {
   "cell_type": "code",
   "execution_count": 122,
   "metadata": {},
   "outputs": [],
   "source": [
    "#display simple list by number of destinations count\n",
    "import matplotlib.pyplot as plt\n",
    "import pandas as pd\n",
    "import numpy as np\n",
    "\n",
    "#display country mentions\n",
    "country_mentions = dict()\n",
    "\n",
    "with open(\"location_results.json\", 'r') as result_file:\n",
    "    data = json.load(result_file)\n",
    "    for tweet in data:\n",
    "        for c in set(tweet['countries']):\n",
    "            country_code = all_countries_map[c]\n",
    "            if country_code in country_mentions:\n",
    "                country_mentions[country_code]+=1\n",
    "            else:\n",
    "                country_mentions[country_code]=1\n",
    "                \n",
    "        for c in set(tweet['cities']):\n",
    "            country_code = all_cities_map[c]\n",
    "            if country_code in country_mentions:\n",
    "                country_mentions[country_code]+=1\n",
    "            else:\n",
    "                country_mentions[country_code]=1\n",
    "                \n",
    "\n",
    "\n"
   ]
  },
  {
   "cell_type": "code",
   "execution_count": 139,
   "metadata": {},
   "outputs": [
    {
     "name": "stdout",
     "output_type": "stream",
     "text": [
      "   country  count\n",
      "8       FR   4189\n",
      "12      GB   4181\n",
      "0       ES   3350\n",
      "2       TR   1496\n",
      "27      PT    960\n",
      "   country  count\n",
      "6       IN   4544\n",
      "13      TH   2852\n",
      "7       JP   2174\n",
      "1       ID   2000\n",
      "2       TR   1496\n"
     ]
    }
   ],
   "source": [
    "found_coutries = { ckey: country_mentions[ckey] for ckey in country_mentions if len(ckey)==2}\n",
    "\n",
    "df = pd.DataFrame.from_dict({'country': list(found_coutries.keys()), 'count': list(found_coutries.values())})\n",
    "\n",
    "#filter by continent \n",
    "codes_list = pd.read_csv('country-and-continent-codes-list-csv_csv.csv')\n",
    "asia_codes = codes_list[codes_list['Continent_Name']=='Asia' ]\n",
    "europe_codes = codes_list[codes_list['Continent_Name']=='Europe' ]\n",
    "\n",
    "europe_destinations = df[df['country'].isin(list(europe_codes['Two_Letter_Country_Code']))].sort_values('count', ascending=False)\n",
    "asia_destinations = df[df['country'].isin(list(asia_codes['Two_Letter_Country_Code']))].sort_values('count', ascending=False)\n",
    "\n",
    "print(europe_destinations.sort_values(by='count', ascending=False).head())\n",
    "print(asia_destinations.sort_values(by='count', ascending=False).head())\n"
   ]
  },
  {
   "cell_type": "code",
   "execution_count": 138,
   "metadata": {},
   "outputs": [
    {
     "data": {
      "image/png": "[encoded data removed]",
      "text/plain": [
       "<Figure size 1440x720 with 1 Axes>"
      ]
     },
     "metadata": {
      "needs_background": "light"
     },
     "output_type": "display_data"
    }
   ],
   "source": [
    "matplotlib.rcParams['figure.figsize'] = [20, 10]\n",
    "\n",
    "top_how_many = 12\n",
    "plt.ylabel('Number of tweets')\n",
    "plt.title('Top countries in Europe by tweets analysis')\n",
    "plt.bar(range(top_how_many), list(europe_destinations['count'])[:top_how_many], align='center')#len(country_mentions)\n",
    "plt.xticks(range(top_how_many), list(europe_destinations['country'])[:top_how_many])#len(country_mentions)\n",
    "plt.show()"
   ]
  },
  {
   "cell_type": "code",
   "execution_count": 140,
   "metadata": {},
   "outputs": [
    {
     "data": {
      "image/png": "[encoded data removed]",
      "text/plain": [
       "<Figure size 1440x720 with 1 Axes>"
      ]
     },
     "metadata": {
      "needs_background": "light"
     },
     "output_type": "display_data"
    }
   ],
   "source": [
    "matplotlib.rcParams['figure.figsize'] = [20, 10]\n",
    "\n",
    "top_how_many = 12\n",
    "plt.ylabel('Number of tweets')\n",
    "plt.title('Top countries in Asia by tweets analysis')\n",
    "plt.bar(range(top_how_many), list(asia_destinations['count'])[:top_how_many], align='center')#len(country_mentions)\n",
    "plt.xticks(range(top_how_many), list(asia_destinations['country'])[:top_how_many])#len(country_mentions)\n",
    "plt.show()"
   ]
  },
  {
   "cell_type": "markdown",
   "metadata": {},
   "source": [
    "## TODOs\n",
    "\n",
    "* Improve country code detection (British Indian Ocean Teritory as example)\n",
    "* Detect if the tweet is related to traveling only (remove political tweets for ex)\n",
    "* Better visualization with superset\n",
    "\n",
    "## Notes\n",
    "\n",
    "Data set is disparsed because some coutries use more twitter that others & some people use more english that others etc.\n",
    "\n",
    "It is hard to detect if tweet is strictly travel oriented or it is posted by locals etc\n",
    "\n",
    "https://altair-viz.github.io/gallery/choropleth_repeat.html\n",
    "\n",
    "https://www.ncbi.nlm.nih.gov/pmc/articles/PMC6002102/"
   ]
  },
  {
   "cell_type": "code",
   "execution_count": 141,
   "metadata": {},
   "outputs": [
    {
     "ename": "ModuleNotFoundError",
     "evalue": "No module named 'altair'",
     "output_type": "error",
     "traceback": [
      "\u001b[0;31m---------------------------------------------------------------------------\u001b[0m",
      "\u001b[0;31mModuleNotFoundError\u001b[0m                       Traceback (most recent call last)",
      "\u001b[0;32m<ipython-input-141-43bef06448fc>\u001b[0m in \u001b[0;36m<module>\u001b[0;34m\u001b[0m\n\u001b[0;32m----> 1\u001b[0;31m \u001b[0;32mimport\u001b[0m \u001b[0maltair\u001b[0m \u001b[0;32mas\u001b[0m \u001b[0malt\u001b[0m\u001b[0;34m\u001b[0m\u001b[0;34m\u001b[0m\u001b[0m\n\u001b[0m",
      "\u001b[0;31mModuleNotFoundError\u001b[0m: No module named 'altair'"
     ]
    }
   ],
   "source": [
    "import altair as alt"
   ]
  }
 ],
 "metadata": {
  "kernelspec": {
   "display_name": "Python 3",
   "language": "python",
   "name": "python3"
  },
  "language_info": {
   "codemirror_mode": {
    "name": "ipython",
    "version": 3
   },
   "file_extension": ".py",
   "mimetype": "text/x-python",
   "name": "python",
   "nbconvert_exporter": "python",
   "pygments_lexer": "ipython3",
   "version": "3.7.3"
  }
 },
 "nbformat": 4,
 "nbformat_minor": 2
}
